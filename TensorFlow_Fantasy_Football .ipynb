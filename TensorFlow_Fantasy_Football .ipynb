{
 "cells": [
  {
   "cell_type": "markdown",
   "metadata": {},
   "source": [
    "Firstly there are a few helper methods supplied to get data from the current fantasy football website. We will use this in the future during inference with our model created with TensorFlow."
   ]
  },
  {
   "cell_type": "code",
   "execution_count": 1,
   "metadata": {
    "collapsed": true
   },
   "outputs": [],
   "source": [
    "import json\n",
    "import requests\n",
    "\n",
    "\n",
    "def get_players():\n",
    "    url = 'https://fantasy.premierleague.com/drf/elements/'\n",
    "    return requests.get(url).json()\n",
    "\n",
    "\n",
    "def get_teams():\n",
    "    url = 'https://fantasy.premierleague.com/drf/teams/'\n",
    "    return requests.get(url).json()\n",
    "\n",
    "\n",
    "def get_goalkeepers():\n",
    "    players = get_players()\n",
    "    goalkeepers = []\n",
    "    for player in players:\n",
    "        if player['element_type'] is 1:\n",
    "            goalkeepers.append(player)\n",
    "    return goalkeepers\n",
    "\n",
    "\n",
    "def get_defenders():\n",
    "    players = get_players()\n",
    "    defenders = []\n",
    "    for player in players:\n",
    "        if player['element_type'] is 2:\n",
    "            defenders.append(player)\n",
    "    return defenders\n",
    "\n",
    "\n",
    "def get_midfielders():\n",
    "    players = get_players()\n",
    "    midfielders = []\n",
    "    for player in players:\n",
    "        if player['element_type'] is 3:\n",
    "            midfielders.append(player)\n",
    "    return midfielders\n",
    "\n",
    "\n",
    "def get_forwards():\n",
    "    players = get_players()\n",
    "    forwards = []\n",
    "    for player in players:\n",
    "        if player['element_type'] is 4:\n",
    "            forwards.append(player)\n",
    "    return forwards"
   ]
  },
  {
   "cell_type": "markdown",
   "metadata": {},
   "source": [
    "In the next box, we can load up some data from a previous season (2014/2015) and use it for supervised learning. Note that by using this data with the notion of using the created model on today's and the futures data we implicitly assume that similarities in a single previous season could reoccur in a successive one. This of course could be complete bollocks. \n",
    "\n",
    "Data obtained from:\n",
    "https://www.reddit.com/r/FantasyPL/comments/38197f/i_have_complete_fantasy_premier_league_201415/\n",
    "\n",
    "Rough translation from current api keys (from json) from official website to the old data found at the above Reddit link. Not all of it is clear in terms of the translation but there is some data we can use!\n",
    "```\n",
    "Mins           = minutes\n",
    "Goals          = goals_scored\n",
    "Assists        = assists\n",
    "Clean_Sheets   = clean_sheets\n",
    "Goals_Conceded = goals_conceded\n",
    "Yellow_Cards   = yellow_cards\n",
    "Saves          = saves \n",
    "Bonus          = bonus\n",
    "PPI            = ?\n",
    "BPS            = bps\n",
    "Net_Transfers  = ? transfers_in? transfers_out? transfers_in_event? \n",
    "Value          = ? value_season? \n",
    "Points         = ? event_points? \n",
    "```"
   ]
  },
  {
   "cell_type": "code",
   "execution_count": 2,
   "metadata": {
    "scrolled": false
   },
   "outputs": [
    {
     "name": "stdout",
     "output_type": "stream",
     "text": [
      "0 ID\n",
      "1 Name\n",
      "2 Team\n",
      "3 Position\n",
      "4 Availability\n",
      "5 Selection\n",
      "6 EA_Index\n",
      "7 Price\n",
      "8 ID\n",
      "9 Week\n",
      "10 Opponent\n",
      "11 Venue\n",
      "12 Mins\n",
      "13 Goals\n",
      "14 Assists\n",
      "15 Clean_Sheets\n",
      "16 Goals_Conceded\n",
      "17 Yellow_Cards\n",
      "18 Red_Cards\n",
      "19 Saves\n",
      "20 Bonus\n",
      "21 PPI\n",
      "22 BPS\n",
      "23 Net_Transfers\n",
      "24 Value\n",
      "25 Points\n"
     ]
    }
   ],
   "source": [
    "import csv\n",
    "    \n",
    "    \n",
    "def get_concatenated_data():\n",
    "    \"\"\"\n",
    "    Concatenate the data found at the supplied link above\n",
    "    to something a little more convenient.\n",
    "    \"\"\"\n",
    "    def get_file_data(file_path):\n",
    "        rows = []\n",
    "        with open(file_path, encoding='ISO-8859-1') as file:\n",
    "            reader = csv.reader(file, delimiter=',')\n",
    "            for row in reader:\n",
    "                rows.append(row)\n",
    "        return rows\n",
    "    \n",
    "    details = get_file_data('Player_Details.csv')\n",
    "    data = get_file_data('Player_Data.csv')\n",
    "    concatenated_rows = []\n",
    "    \n",
    "    for i, data_row in enumerate(data):\n",
    "        if i != 0:\n",
    "            player_id = data_row[0]\n",
    "            for j, player_row in enumerate(details):\n",
    "                if j != 0:\n",
    "                    if player_row[0] == player_id:\n",
    "                        temp_row = []\n",
    "                        temp_row.extend(player_row)\n",
    "                        temp_row.extend(data_row)\n",
    "                        concatenated_rows.append(temp_row)\n",
    "    return concatenated_rows, details[0] + data[0]\n",
    "           \n",
    "    \n",
    "all_old_data, help_header = get_concatenated_data()\n",
    "\n",
    "for i, value in enumerate(help_header):\n",
    "    print(i, value)"
   ]
  },
  {
   "cell_type": "code",
   "execution_count": 3,
   "metadata": {},
   "outputs": [
    {
     "name": "stdout",
     "output_type": "stream",
     "text": [
      "11033 available training examples.\n",
      "2759 available validation examples.\n"
     ]
    }
   ],
   "source": [
    "import numpy as np\n",
    "from sklearn.preprocessing import normalize\n",
    "\n",
    "desired_indices = [6, 7, 12, 13, 14, 16, 17, 18, 20, 21, 22, 24, 25]\n",
    "desired_player_position = \"Midfielder\"\n",
    "other_desired_player_position = \"Forward\"\n",
    "normalise_data = False\n",
    "\n",
    "\n",
    "def get_desired_data(data, desired_indices, player_position, other_player_position):\n",
    "    \"\"\"\n",
    "    Using the above features create supervised data for\n",
    "    TensorFlow neural networks.\n",
    "    \"\"\"\n",
    "    previous_id = int(data[0][0])\n",
    "    previous_week = int(data[0][9])\n",
    "    previous_value = float(data[0][25])\n",
    "    total_data_size = len(data)\n",
    "    approx_amount_zeros = total_data_size\n",
    "\n",
    "    labels = []\n",
    "    features = []\n",
    "\n",
    "    index = 1\n",
    "    while index < total_data_size:\n",
    "        current_id = int(data[index][0])\n",
    "        current_week = int(data[index][9])\n",
    "        position = data[index][3]\n",
    "\n",
    "        correct_position = position == player_position or position == other_player_position\n",
    "        correct_id = previous_id == current_id\n",
    "        corrent_week = (current_week - 1) == previous_week\n",
    "\n",
    "        if (correct_position and correct_id and corrent_week):\n",
    "            current_value = float(data[index][25])    \n",
    "            if current_value != 0 or index < approx_amount_zeros:\n",
    "                features.append([float(data[index - 1][i]) for i in desired_indices])\n",
    "                labels.append(current_value)\n",
    "                previous_value = current_value\n",
    "        index += 1\n",
    "\n",
    "        previous_id = current_id\n",
    "        previous_week = current_week\n",
    "    return np.array(features), np.array(labels).reshape((-1, 1))\n",
    "\n",
    "features, labels = get_desired_data(all_old_data,\n",
    "                                    desired_indices,\n",
    "                                    desired_player_position,\n",
    "                                    other_desired_player_position)\n",
    "if normalise_data:\n",
    "    features = normalize(features)\n",
    "    labels = normalize(labels)\n",
    "\n",
    "train_split = int(0.8 * len(features))\n",
    "train_x = features[0:train_split]\n",
    "train_y = labels[0:train_split]\n",
    "valid_x = features[:-train_split]\n",
    "valid_y = labels[:-train_split]\n",
    "\n",
    "print(len(train_x), \"available training examples.\")\n",
    "print(len(valid_x), \"available validation examples.\")"
   ]
  },
  {
   "cell_type": "code",
   "execution_count": 4,
   "metadata": {},
   "outputs": [
    {
     "name": "stdout",
     "output_type": "stream",
     "text": [
      "Training Step: 172999  | total loss: \u001b[1m\u001b[32m4.03459\u001b[0m\u001b[0m | time: 0.751s\n",
      "| Adam | epoch: 1000 | loss: 4.03459 - binary_acc: 0.2909 -- iter: 11008/11033\n",
      "Training Step: 173000  | total loss: \u001b[1m\u001b[32m3.77330\u001b[0m\u001b[0m | time: 1.760s\n",
      "| Adam | epoch: 1000 | loss: 3.77330 - binary_acc: 0.2993 | val_loss: 3.84317 - val_acc: 0.4386 -- iter: 11033/11033\n",
      "--\n"
     ]
    }
   ],
   "source": [
    "import tflearn\n",
    "import tensorflow as tf\n",
    "\n",
    "tf.reset_default_graph()\n",
    "\n",
    "net = tflearn.input_data(shape=[None, train_x.shape[1]])\n",
    "net = tflearn.fully_connected(net, 120, activation='relu',\n",
    "                              regularizer='L2', weight_decay=0.001)\n",
    "net = tflearn.dropout(net, 0.8)\n",
    "net = tflearn.fully_connected(net, 80, activation='relu',\n",
    "                              regularizer='L2', weight_decay=0.001)\n",
    "net = tflearn.dropout(net, 0.8)\n",
    "net = tflearn.fully_connected(net, 1, activation='linear')\n",
    "\n",
    "net = tflearn.regression(net, optimizer='adam', loss='mean_square')\n",
    "\n",
    "model = tflearn.DNN(net, tensorboard_verbose=0)\n",
    "model.fit(train_x, train_y, n_epoch=1000, validation_set=(valid_x, valid_y), \n",
    "          shuffle=True, show_metric=True, run_id=\"dense_model\")"
   ]
  },
  {
   "cell_type": "code",
   "execution_count": 8,
   "metadata": {},
   "outputs": [
    {
     "name": "stdout",
     "output_type": "stream",
     "text": [
      "2759 total predictions\n",
      "2069 predictions with under 1 distance\n",
      "\n",
      "1.0561 is the mean prediction\n",
      "5.29215 is the max prediction\n",
      "-0.0456786 is the min prediction\n",
      "\n",
      "0.908034029107 is the mean difference between prediction and target value\n",
      "21.0683026314 is the max difference between prediction and target value\n",
      "0.00282788276672 is the min difference between prediction and target value\n",
      "\n",
      "0.511841469309 is the mean value to be predicted when prediction is very close\n",
      "5.0 is the max value to be predicted when prediction is very close\n",
      "0.0 is the min value to be predicted when prediction is very close\n"
     ]
    },
    {
     "data": {
      "image/png": "[encoded data removed]",
      "text/plain": [
       "<matplotlib.figure.Figure at 0x7f24c4983780>"
      ]
     },
     "metadata": {},
     "output_type": "display_data"
    }
   ],
   "source": [
    "import matplotlib.pyplot as plt\n",
    "%matplotlib inline\n",
    "\n",
    "predictions = model.predict(valid_x)\n",
    "dist = 1\n",
    "differences = []\n",
    "under_one_difference = []\n",
    "for i, prediction in enumerate(predictions):\n",
    "    diff = abs(prediction - valid_y[i])\n",
    "    differences.append(diff)\n",
    "    if (diff <= dist):\n",
    "        under_one_difference.append(valid_y[i])\n",
    "        \n",
    "differences = np.array(differences).reshape(-1).tolist()\n",
    "under_one_difference = np.array(under_one_difference).reshape(-1).tolist()\n",
    "\n",
    "print(len(differences), \"total predictions\")\n",
    "print(len(under_one_difference), \"predictions with under\", dist, \"distance\\n\")\n",
    "print(np.mean(predictions), \"is the mean prediction\")\n",
    "print(np.max(predictions), \"is the max prediction\")\n",
    "print(np.min(predictions), \"is the min prediction\\n\")\n",
    "print(np.mean(differences), \"is the mean difference between prediction and target value\")\n",
    "print(np.max(differences), \"is the max difference between prediction and target value\")\n",
    "print(np.min(differences), \"is the min difference between prediction and target value\\n\")\n",
    "print(np.mean(under_one_difference), \"is the mean value to be predicted when prediction is very close\")\n",
    "print(np.max(under_one_difference), \"is the max value to be predicted when prediction is very close\")\n",
    "print(np.min(under_one_difference), \"is the min value to be predicted when prediction is very close\")\n",
    "\n",
    "_ = plt.hist(differences, bins=100)"
   ]
  },
  {
   "cell_type": "markdown",
   "metadata": {},
   "source": [
    "It can some times be hard to beat choosing values completely randomly, so I did that to show the neural network is learning something. \n",
    "\n",
    "It is relatively clear here that the random selection histogram shows vast amounts of difference between the prediction and actual when predicting random values in the range of the labels min and max."
   ]
  },
  {
   "cell_type": "code",
   "execution_count": 7,
   "metadata": {},
   "outputs": [
    {
     "name": "stdout",
     "output_type": "stream",
     "text": [
      "2759 total predictions\n",
      "204 predictions with under 1 distance\n",
      "\n",
      "1.0561 is the mean prediction\n",
      "5.29215 is the max prediction\n",
      "-0.0456786 is the min prediction\n",
      "\n",
      "10.4668050463 is the mean difference between prediction and target value\n",
      "23.9864054965 is the max difference between prediction and target value\n",
      "0.00134899484294 is the min difference between prediction and target value\n",
      "\n",
      "1.41176470588 is the mean value to be predicted when prediction is very close\n",
      "16.0 is the max value to be predicted when prediction is very close\n",
      "0.0 is the min value to be predicted when prediction is very close\n"
     ]
    },
    {
     "data": {
      "image/png": "[encoded data removed]",
      "text/plain": [
       "<matplotlib.figure.Figure at 0x7f24c4ab0dd8>"
      ]
     },
     "metadata": {},
     "output_type": "display_data"
    }
   ],
   "source": [
    "random_predictions = np.random.uniform(np.min(labels), np.max(labels), valid_y.shape)\n",
    "dist = 1\n",
    "differences = []\n",
    "under_one_difference = []\n",
    "for i, prediction in enumerate(random_predictions):\n",
    "    diff = abs(prediction - valid_y[i])\n",
    "    differences.append(diff)\n",
    "    if (diff <= dist):\n",
    "        under_one_difference.append(valid_y[i])\n",
    "        \n",
    "differences = np.array(differences).reshape(-1).tolist()\n",
    "under_one_difference = np.array(under_one_difference).reshape(-1).tolist()\n",
    "\n",
    "print(len(differences), \"total predictions\")\n",
    "print(len(under_one_difference), \"predictions with under\", dist, \"distance\\n\")\n",
    "print(np.mean(predictions), \"is the mean prediction\")\n",
    "print(np.max(predictions), \"is the max prediction\")\n",
    "print(np.min(predictions), \"is the min prediction\\n\")\n",
    "print(np.mean(differences), \"is the mean difference between prediction and target value\")\n",
    "print(np.max(differences), \"is the max difference between prediction and target value\")\n",
    "print(np.min(differences), \"is the min difference between prediction and target value\\n\")\n",
    "print(np.mean(under_one_difference), \"is the mean value to be predicted when prediction is very close\")\n",
    "print(np.max(under_one_difference), \"is the max value to be predicted when prediction is very close\")\n",
    "print(np.min(under_one_difference), \"is the min value to be predicted when prediction is very close\")\n",
    "_ = plt.hist(differences, bins=100)"
   ]
  }
 ],
 "metadata": {
  "kernelspec": {
   "display_name": "Python 3",
   "language": "python",
   "name": "python3"
  },
  "language_info": {
   "codemirror_mode": {
    "name": "ipython",
    "version": 3
   },
   "file_extension": ".py",
   "mimetype": "text/x-python",
   "name": "python",
   "nbconvert_exporter": "python",
   "pygments_lexer": "ipython3",
   "version": "3.5.2"
  }
 },
 "nbformat": 4,
 "nbformat_minor": 2
}
